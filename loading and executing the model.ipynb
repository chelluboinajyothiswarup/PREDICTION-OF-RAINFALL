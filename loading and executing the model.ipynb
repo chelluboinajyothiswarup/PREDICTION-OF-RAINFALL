{
 "cells": [
  {
   "cell_type": "code",
   "execution_count": 1,
   "id": "3907c036",
   "metadata": {},
   "outputs": [],
   "source": [
    "import numpy as np\n",
    "import pandas as pd\n",
    "import matplotlib.pyplot as plt\n",
    "from sklearn.model_selection import train_test_split\n",
    "from sklearn.preprocessing import LabelEncoder\n",
    "#Performance metrics\n",
    "from sklearn.metrics import mean_squared_error,confusion_matrix,roc_auc_score,RocCurveDisplay,auc,roc_curve,ConfusionMatrixDisplay\n",
    "from sklearn.metrics import precision_recall_fscore_support,plot_confusion_matrix,log_loss,accuracy_score,f1_score\n",
    "import joblib"
   ]
  },
  {
   "cell_type": "code",
   "execution_count": 2,
   "id": "77b9a358",
   "metadata": {
    "scrolled": true
   },
   "outputs": [
    {
     "data": {
      "text/html": [
       "<div>\n",
       "<style scoped>\n",
       "    .dataframe tbody tr th:only-of-type {\n",
       "        vertical-align: middle;\n",
       "    }\n",
       "\n",
       "    .dataframe tbody tr th {\n",
       "        vertical-align: top;\n",
       "    }\n",
       "\n",
       "    .dataframe thead th {\n",
       "        text-align: right;\n",
       "    }\n",
       "</style>\n",
       "<table border=\"1\" class=\"dataframe\">\n",
       "  <thead>\n",
       "    <tr style=\"text-align: right;\">\n",
       "      <th></th>\n",
       "      <th>MinTemp</th>\n",
       "      <th>MaxTemp</th>\n",
       "      <th>Rainfall</th>\n",
       "      <th>Evaporation</th>\n",
       "      <th>Sunshine</th>\n",
       "      <th>WindGustDir</th>\n",
       "      <th>WindGustSpeed</th>\n",
       "      <th>WindDir9am</th>\n",
       "      <th>WindDir3pm</th>\n",
       "      <th>WindSpeed9am</th>\n",
       "      <th>...</th>\n",
       "      <th>Pressure9am</th>\n",
       "      <th>Pressure3pm</th>\n",
       "      <th>Cloud9am</th>\n",
       "      <th>Cloud3pm</th>\n",
       "      <th>Temp9am</th>\n",
       "      <th>Temp3pm</th>\n",
       "      <th>RainToday</th>\n",
       "      <th>month</th>\n",
       "      <th>day</th>\n",
       "      <th>RainTomorrow</th>\n",
       "    </tr>\n",
       "  </thead>\n",
       "  <tbody>\n",
       "    <tr>\n",
       "      <th>0</th>\n",
       "      <td>12.2</td>\n",
       "      <td>19.6</td>\n",
       "      <td>0.0</td>\n",
       "      <td>2.600000</td>\n",
       "      <td>1.700000</td>\n",
       "      <td>11.0</td>\n",
       "      <td>37.0</td>\n",
       "      <td>6.0</td>\n",
       "      <td>10.0</td>\n",
       "      <td>15.0</td>\n",
       "      <td>...</td>\n",
       "      <td>1026.9</td>\n",
       "      <td>1024.400000</td>\n",
       "      <td>7.000000</td>\n",
       "      <td>7.000000</td>\n",
       "      <td>15.0</td>\n",
       "      <td>18.500000</td>\n",
       "      <td>0.0</td>\n",
       "      <td>5.0</td>\n",
       "      <td>12.0</td>\n",
       "      <td>1.0</td>\n",
       "    </tr>\n",
       "    <tr>\n",
       "      <th>1</th>\n",
       "      <td>15.6</td>\n",
       "      <td>25.6</td>\n",
       "      <td>0.0</td>\n",
       "      <td>6.475381</td>\n",
       "      <td>7.857188</td>\n",
       "      <td>9.0</td>\n",
       "      <td>52.0</td>\n",
       "      <td>1.0</td>\n",
       "      <td>9.0</td>\n",
       "      <td>20.0</td>\n",
       "      <td>...</td>\n",
       "      <td>1023.5</td>\n",
       "      <td>1020.800000</td>\n",
       "      <td>4.036764</td>\n",
       "      <td>4.155645</td>\n",
       "      <td>19.6</td>\n",
       "      <td>24.300000</td>\n",
       "      <td>0.0</td>\n",
       "      <td>2.0</td>\n",
       "      <td>9.0</td>\n",
       "      <td>0.0</td>\n",
       "    </tr>\n",
       "    <tr>\n",
       "      <th>2</th>\n",
       "      <td>7.1</td>\n",
       "      <td>14.2</td>\n",
       "      <td>0.0</td>\n",
       "      <td>3.000000</td>\n",
       "      <td>1.600000</td>\n",
       "      <td>10.0</td>\n",
       "      <td>39.0</td>\n",
       "      <td>14.0</td>\n",
       "      <td>13.0</td>\n",
       "      <td>20.0</td>\n",
       "      <td>...</td>\n",
       "      <td>1017.1</td>\n",
       "      <td>1015.670207</td>\n",
       "      <td>6.000000</td>\n",
       "      <td>7.382760</td>\n",
       "      <td>11.3</td>\n",
       "      <td>12.150888</td>\n",
       "      <td>0.0</td>\n",
       "      <td>6.0</td>\n",
       "      <td>16.0</td>\n",
       "      <td>1.0</td>\n",
       "    </tr>\n",
       "    <tr>\n",
       "      <th>3</th>\n",
       "      <td>7.6</td>\n",
       "      <td>15.8</td>\n",
       "      <td>1.2</td>\n",
       "      <td>1.233005</td>\n",
       "      <td>4.914109</td>\n",
       "      <td>15.0</td>\n",
       "      <td>52.0</td>\n",
       "      <td>3.0</td>\n",
       "      <td>12.0</td>\n",
       "      <td>0.0</td>\n",
       "      <td>...</td>\n",
       "      <td>1018.9</td>\n",
       "      <td>1018.400000</td>\n",
       "      <td>5.676354</td>\n",
       "      <td>5.775109</td>\n",
       "      <td>13.0</td>\n",
       "      <td>14.200000</td>\n",
       "      <td>1.0</td>\n",
       "      <td>6.0</td>\n",
       "      <td>3.0</td>\n",
       "      <td>1.0</td>\n",
       "    </tr>\n",
       "    <tr>\n",
       "      <th>4</th>\n",
       "      <td>17.8</td>\n",
       "      <td>27.6</td>\n",
       "      <td>0.0</td>\n",
       "      <td>5.200000</td>\n",
       "      <td>10.700000</td>\n",
       "      <td>9.0</td>\n",
       "      <td>33.0</td>\n",
       "      <td>10.0</td>\n",
       "      <td>9.0</td>\n",
       "      <td>17.0</td>\n",
       "      <td>...</td>\n",
       "      <td>1016.2</td>\n",
       "      <td>1013.600000</td>\n",
       "      <td>2.000000</td>\n",
       "      <td>2.000000</td>\n",
       "      <td>23.5</td>\n",
       "      <td>26.200000</td>\n",
       "      <td>0.0</td>\n",
       "      <td>7.0</td>\n",
       "      <td>21.0</td>\n",
       "      <td>0.0</td>\n",
       "    </tr>\n",
       "  </tbody>\n",
       "</table>\n",
       "<p>5 rows × 23 columns</p>\n",
       "</div>"
      ],
      "text/plain": [
       "   MinTemp  MaxTemp  Rainfall  Evaporation   Sunshine  WindGustDir  \\\n",
       "0     12.2     19.6       0.0     2.600000   1.700000         11.0   \n",
       "1     15.6     25.6       0.0     6.475381   7.857188          9.0   \n",
       "2      7.1     14.2       0.0     3.000000   1.600000         10.0   \n",
       "3      7.6     15.8       1.2     1.233005   4.914109         15.0   \n",
       "4     17.8     27.6       0.0     5.200000  10.700000          9.0   \n",
       "\n",
       "   WindGustSpeed  WindDir9am  WindDir3pm  WindSpeed9am  ...  Pressure9am  \\\n",
       "0           37.0         6.0        10.0          15.0  ...       1026.9   \n",
       "1           52.0         1.0         9.0          20.0  ...       1023.5   \n",
       "2           39.0        14.0        13.0          20.0  ...       1017.1   \n",
       "3           52.0         3.0        12.0           0.0  ...       1018.9   \n",
       "4           33.0        10.0         9.0          17.0  ...       1016.2   \n",
       "\n",
       "   Pressure3pm  Cloud9am  Cloud3pm  Temp9am    Temp3pm  RainToday  month  \\\n",
       "0  1024.400000  7.000000  7.000000     15.0  18.500000        0.0    5.0   \n",
       "1  1020.800000  4.036764  4.155645     19.6  24.300000        0.0    2.0   \n",
       "2  1015.670207  6.000000  7.382760     11.3  12.150888        0.0    6.0   \n",
       "3  1018.400000  5.676354  5.775109     13.0  14.200000        1.0    6.0   \n",
       "4  1013.600000  2.000000  2.000000     23.5  26.200000        0.0    7.0   \n",
       "\n",
       "    day  RainTomorrow  \n",
       "0  12.0           1.0  \n",
       "1   9.0           0.0  \n",
       "2  16.0           1.0  \n",
       "3   3.0           1.0  \n",
       "4  21.0           0.0  \n",
       "\n",
       "[5 rows x 23 columns]"
      ]
     },
     "execution_count": 2,
     "metadata": {},
     "output_type": "execute_result"
    }
   ],
   "source": [
    "df = pd.read_csv(\"rainDS.csv\")\n",
    "df=df.drop(labels=['Unnamed: 0'],axis=1)\n",
    "df.head()"
   ]
  },
  {
   "cell_type": "code",
   "execution_count": 3,
   "id": "6a9d91bb",
   "metadata": {},
   "outputs": [
    {
     "data": {
      "text/plain": [
       "(44127, 23)"
      ]
     },
     "execution_count": 3,
     "metadata": {},
     "output_type": "execute_result"
    }
   ],
   "source": [
    "df.shape"
   ]
  },
  {
   "cell_type": "code",
   "execution_count": 4,
   "id": "289ba0c5",
   "metadata": {},
   "outputs": [],
   "source": [
    "y = df['RainTomorrow']\n",
    "x = df.loc[:, df.columns != 'RainTomorrow']"
   ]
  },
  {
   "cell_type": "markdown",
   "id": "c60d2b41",
   "metadata": {},
   "source": [
    "# RANDOMFOREST"
   ]
  },
  {
   "cell_type": "code",
   "execution_count": 28,
   "id": "e5d1ee1d",
   "metadata": {},
   "outputs": [
    {
     "name": "stdout",
     "output_type": "stream",
     "text": [
      "[1. 0. 1. ... 1. 1. 1.]\n"
     ]
    }
   ],
   "source": [
    "rf_model = joblib.load(\"RainPredictModelRF.sav\")\n",
    "ypreds=rf_model.predict(x)\n",
    "ypreds"
   ]
  },
  {
   "cell_type": "code",
   "execution_count": 44,
   "id": "99456092",
   "metadata": {},
   "outputs": [
    {
     "data": {
      "image/png": "[encoded data removed]",
      "text/plain": [
       "<Figure size 432x288 with 1 Axes>"
      ]
     },
     "metadata": {
      "needs_background": "light"
     },
     "output_type": "display_data"
    }
   ],
   "source": [
    "plt.scatter(range(len(y)),y,c='r')\n",
    "plt.scatter(range(len(ypreds)),ypreds,c='b')\n",
    "\n",
    "\n",
    "plt.xlim(140,180)\n",
    "plt.show()"
   ]
  },
  {
   "cell_type": "code",
   "execution_count": 7,
   "id": "d00327bf",
   "metadata": {
    "scrolled": true
   },
   "outputs": [
    {
     "data": {
      "text/plain": [
       "0.9309039816892152"
      ]
     },
     "execution_count": 7,
     "metadata": {},
     "output_type": "execute_result"
    }
   ],
   "source": [
    "rf_model.score(x,y)"
   ]
  },
  {
   "cell_type": "code",
   "execution_count": 8,
   "id": "1e6008eb",
   "metadata": {},
   "outputs": [
    {
     "data": {
      "text/plain": [
       "(0.9328488051976656,\n",
       " 0.2181580897425044,\n",
       " 0.9309072752895674,\n",
       " 0.9309039816892152)"
      ]
     },
     "execution_count": 8,
     "metadata": {},
     "output_type": "execute_result"
    }
   ],
   "source": [
    "f2=f1_score(y,rf_model.predict(x))\n",
    "lgls=log_loss(y, rf_model.predict_proba(x))\n",
    "acc_rf=accuracy_score(y, rf_model.predict(x))\n",
    "rac=roc_auc_score(y, rf_model.predict(x))\n",
    "f2,lgls,rac,acc_rf"
   ]
  },
  {
   "cell_type": "code",
   "execution_count": 9,
   "id": "77dfc79b",
   "metadata": {},
   "outputs": [
    {
     "data": {
      "image/png": "[encoded data removed]",
      "text/plain": [
       "<Figure size 432x288 with 2 Axes>"
      ]
     },
     "metadata": {
      "needs_background": "light"
     },
     "output_type": "display_data"
    }
   ],
   "source": [
    "disp = ConfusionMatrixDisplay(confusion_matrix=confusion_matrix(y,rf_model.predict(x)),display_labels=['yes','no'])\n",
    "disp.plot()\n",
    "plt.show()"
   ]
  },
  {
   "cell_type": "markdown",
   "id": "01c18485",
   "metadata": {},
   "source": [
    "# XGBOOST"
   ]
  },
  {
   "cell_type": "code",
   "execution_count": 10,
   "id": "2af0dd95",
   "metadata": {},
   "outputs": [
    {
     "data": {
      "text/plain": [
       "array([1., 0., 1., ..., 1., 1., 1.])"
      ]
     },
     "execution_count": 10,
     "metadata": {},
     "output_type": "execute_result"
    }
   ],
   "source": [
    "xgb_model = joblib.load(\"RainPredictModelXGB.sav\")\n",
    "xgb_model.predict(x)"
   ]
  },
  {
   "cell_type": "code",
   "execution_count": 11,
   "id": "13629d2e",
   "metadata": {
    "scrolled": true
   },
   "outputs": [
    {
     "data": {
      "text/plain": [
       "0.9637183583746912"
      ]
     },
     "execution_count": 11,
     "metadata": {},
     "output_type": "execute_result"
    }
   ],
   "source": [
    "xgb_model.score(x,y)"
   ]
  },
  {
   "cell_type": "code",
   "execution_count": 12,
   "id": "665ff509",
   "metadata": {},
   "outputs": [
    {
     "data": {
      "text/plain": [
       "(0.9644892979926806,\n",
       " 0.11995878970120269,\n",
       " 0.9637208307003282,\n",
       " 0.9637183583746912)"
      ]
     },
     "execution_count": 12,
     "metadata": {},
     "output_type": "execute_result"
    }
   ],
   "source": [
    "f2=f1_score(y,xgb_model.predict(x))\n",
    "lgls=log_loss(y, xgb_model.predict_proba(x))\n",
    "acc_xgb=accuracy_score(y, xgb_model.predict(x))\n",
    "rac=roc_auc_score(y, xgb_model.predict(x))\n",
    "f2,lgls,rac,acc_xgb"
   ]
  },
  {
   "cell_type": "code",
   "execution_count": 13,
   "id": "29ab8b3a",
   "metadata": {},
   "outputs": [
    {
     "data": {
      "image/png": "[encoded data removed]",
      "text/plain": [
       "<Figure size 432x288 with 2 Axes>"
      ]
     },
     "metadata": {
      "needs_background": "light"
     },
     "output_type": "display_data"
    }
   ],
   "source": [
    "disp = ConfusionMatrixDisplay(confusion_matrix=confusion_matrix(y,xgb_model.predict(x)),display_labels=['yes','no'])\n",
    "disp.plot()\n",
    "plt.show()"
   ]
  },
  {
   "cell_type": "markdown",
   "id": "dd620944",
   "metadata": {},
   "source": [
    "# CATBOOST"
   ]
  },
  {
   "cell_type": "code",
   "execution_count": 14,
   "id": "50caef19",
   "metadata": {},
   "outputs": [
    {
     "data": {
      "text/plain": [
       "array([1., 0., 1., ..., 1., 1., 1.])"
      ]
     },
     "execution_count": 14,
     "metadata": {},
     "output_type": "execute_result"
    }
   ],
   "source": [
    "cb_model = joblib.load(\"RainPredictModelCB.sav\")\n",
    "cb_model.predict(x)"
   ]
  },
  {
   "cell_type": "code",
   "execution_count": 15,
   "id": "34c4fbff",
   "metadata": {},
   "outputs": [
    {
     "data": {
      "text/plain": [
       "0.9480590114895642"
      ]
     },
     "execution_count": 15,
     "metadata": {},
     "output_type": "execute_result"
    }
   ],
   "source": [
    "cb_model.score(x,y)"
   ]
  },
  {
   "cell_type": "code",
   "execution_count": 16,
   "id": "260ae661",
   "metadata": {},
   "outputs": [
    {
     "data": {
      "text/plain": [
       "(0.9497522690402069,\n",
       " 0.14613725463503874,\n",
       " 0.9480628419803822,\n",
       " 0.9480590114895642)"
      ]
     },
     "execution_count": 16,
     "metadata": {},
     "output_type": "execute_result"
    }
   ],
   "source": [
    "f2=f1_score(y,cb_model.predict(x))\n",
    "lgls=log_loss(y, cb_model.predict_proba(x))\n",
    "acc_cb=accuracy_score(y, cb_model.predict(x))\n",
    "rac=roc_auc_score(y, cb_model.predict(x))\n",
    "f2,lgls,rac,acc_cb"
   ]
  },
  {
   "cell_type": "code",
   "execution_count": 17,
   "id": "86c37cfc",
   "metadata": {},
   "outputs": [
    {
     "data": {
      "image/png": "[encoded data removed]",
      "text/plain": [
       "<Figure size 432x288 with 2 Axes>"
      ]
     },
     "metadata": {
      "needs_background": "light"
     },
     "output_type": "display_data"
    }
   ],
   "source": [
    "disp = ConfusionMatrixDisplay(confusion_matrix=confusion_matrix(y,cb_model.predict(x)),display_labels=['yes','no'])\n",
    "disp.plot()\n",
    "plt.show()"
   ]
  },
  {
   "cell_type": "markdown",
   "id": "2186d799",
   "metadata": {},
   "source": [
    "# ENSEMBLE MODEL"
   ]
  },
  {
   "cell_type": "code",
   "execution_count": 18,
   "id": "de21141b",
   "metadata": {},
   "outputs": [],
   "source": [
    "def Ensemble_Model(x,model1,model2,model3):\n",
    "    pred=[]\n",
    "    l1=model1.predict(x)\n",
    "    l2=model2.predict(x)\n",
    "    l3=model3.predict(x)\n",
    "    for i in range(len(l1)):\n",
    "            pred.append(max([l1[i],l2[i],l3[i]], key = [l1[i],l2[i],l3[i]].count))\n",
    "    pred=np.array(pred)\n",
    "    return pred"
   ]
  },
  {
   "cell_type": "code",
   "execution_count": 19,
   "id": "c3e79eed",
   "metadata": {},
   "outputs": [
    {
     "data": {
      "text/plain": [
       "(0.9572935709094113,\n",
       " 1.5177096739319345,\n",
       " 0.9560619376874795,\n",
       " 0.9560586488997665)"
      ]
     },
     "execution_count": 19,
     "metadata": {},
     "output_type": "execute_result"
    }
   ],
   "source": [
    "f2=f1_score(y,Ensemble_Model(x,rf_model,xgb_model,cb_model))\n",
    "lgls=log_loss(y, Ensemble_Model(x,rf_model,xgb_model,cb_model))\n",
    "acc_en=accuracy_score(y, Ensemble_Model(x,rf_model,xgb_model,cb_model))\n",
    "rac=roc_auc_score(y, Ensemble_Model(x,rf_model,xgb_model,cb_model))\n",
    "f2,lgls,rac,acc_en\n"
   ]
  },
  {
   "cell_type": "code",
   "execution_count": 20,
   "id": "2e09249a",
   "metadata": {},
   "outputs": [
    {
     "data": {
      "image/png": "[encoded data removed]",
      "text/plain": [
       "<Figure size 432x288 with 2 Axes>"
      ]
     },
     "metadata": {
      "needs_background": "light"
     },
     "output_type": "display_data"
    }
   ],
   "source": [
    "disp = ConfusionMatrixDisplay(confusion_matrix=confusion_matrix(y,Ensemble_Model(x,rf_model,xgb_model,cb_model)),display_labels=['yes','no'])\n",
    "disp.plot()\n",
    "plt.show()"
   ]
  },
  {
   "cell_type": "code",
   "execution_count": 21,
   "id": "649b096c",
   "metadata": {},
   "outputs": [
    {
     "name": "stderr",
     "output_type": "stream",
     "text": [
      "C:\\Users\\JYOTHI~1\\AppData\\Local\\Temp/ipykernel_4596/838622510.py:8: MatplotlibDeprecationWarning: Case-insensitive properties were deprecated in 3.3 and support will be removed two minor releases later\n",
      "  plt.text(i,l[i]//2,round(l[i],2),ha='center',Bbox = dict(facecolor = 'white', alpha =1))\n"
     ]
    },
    {
     "data": {
      "image/png": "[encoded data removed]",
      "text/plain": [
       "<Figure size 576x360 with 1 Axes>"
      ]
     },
     "metadata": {
      "needs_background": "light"
     },
     "output_type": "display_data"
    }
   ],
   "source": [
    "import seaborn as sns\n",
    "l=[acc_rf,acc_xgb,acc_cb,acc_en]\n",
    "l=[i*100 for i in l]\n",
    "n=['Random Forest','XGBoost','Catboost','Ensemble Model']\n",
    "plt.figure(figsize=(8,5))\n",
    "plt.bar(n,l,color=sns.color_palette(\"crest\"))\n",
    "for i in range(4):\n",
    "    plt.text(i,l[i]//2,round(l[i],2),ha='center',Bbox = dict(facecolor = 'white', alpha =1))\n",
    "\n",
    "plt.show()"
   ]
  },
  {
   "cell_type": "markdown",
   "id": "cd2097fa",
   "metadata": {},
   "source": [
    "# End of the Notebook"
   ]
  },
  {
   "cell_type": "markdown",
   "id": "601fb289",
   "metadata": {},
   "source": [
    "# Notebook Details"
   ]
  },
  {
   "cell_type": "markdown",
   "id": "8d9d8565",
   "metadata": {},
   "source": [
    "Notebook by: Chelluboina Jyothi Swarup<br>\n",
    "Reg no.: 39110220<br>\n",
    "Dataset: Prediction of Rainfall<br>\n",
    "Problem Type: Classification"
   ]
  },
  {
   "cell_type": "code",
   "execution_count": null,
   "id": "44be1a8f",
   "metadata": {},
   "outputs": [],
   "source": []
  }
 ],
 "metadata": {
  "kernelspec": {
   "display_name": "Python 3 (ipykernel)",
   "language": "python",
   "name": "python3"
  },
  "language_info": {
   "codemirror_mode": {
    "name": "ipython",
    "version": 3
   },
   "file_extension": ".py",
   "mimetype": "text/x-python",
   "name": "python",
   "nbconvert_exporter": "python",
   "pygments_lexer": "ipython3",
   "version": "3.9.7"
  }
 },
 "nbformat": 4,
 "nbformat_minor": 5
}
